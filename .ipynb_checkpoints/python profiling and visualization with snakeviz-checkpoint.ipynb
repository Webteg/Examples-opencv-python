{
 "cells": [
  {
   "cell_type": "markdown",
   "metadata": {},
   "source": [
    "# Install snakeviz"
   ]
  },
  {
   "cell_type": "code",
   "execution_count": 1,
   "metadata": {
    "ExecuteTime": {
     "end_time": "2019-11-08T14:20:22.461920Z",
     "start_time": "2019-11-08T14:20:21.397620Z"
    }
   },
   "outputs": [
    {
     "name": "stdout",
     "output_type": "stream",
     "text": [
      "Requirement already satisfied: snakeviz in /home/evelyn/anaconda3/envs/shopbrasil/lib/python3.7/site-packages (2.0.1)\n",
      "Requirement already satisfied: tornado>=2.0 in /home/evelyn/anaconda3/envs/shopbrasil/lib/python3.7/site-packages (from snakeviz) (6.0.3)\n",
      "Note: you may need to restart the kernel to use updated packages.\n"
     ]
    }
   ],
   "source": [
    "pip install snakeviz"
   ]
  },
  {
   "cell_type": "markdown",
   "metadata": {},
   "source": [
    "# Using prun magic\n",
    "\n",
    "this will create a program.prof file"
   ]
  },
  {
   "cell_type": "code",
   "execution_count": 24,
   "metadata": {
    "ExecuteTime": {
     "end_time": "2019-11-08T14:36:40.778461Z",
     "start_time": "2019-11-08T14:36:36.763434Z"
    }
   },
   "outputs": [
    {
     "name": "stdout",
     "output_type": "stream",
     "text": [
      "sleep for 2 seconds\n",
      "sleep for 2 seconds\n",
      " \n",
      "*** Profile stats marshalled to file 'program.prof'. \n"
     ]
    }
   ],
   "source": [
    "%%prun -D program.prof\n",
    "# %%snakeviz\n",
    "import time\n",
    "if __name__ == \"__main__\":\n",
    "    for i in range(1000):\n",
    "        #sleep for 2 seconds when i % 500 == 0\n",
    "        if i % 500 == 0:\n",
    "            print(\"sleep for 2 seconds\")\n",
    "            time.sleep(2)\n"
   ]
  },
  {
   "cell_type": "markdown",
   "metadata": {},
   "source": [
    "Then you can visualize executing from the command line\n",
    "```console\n",
    "foo@bar:~$ snakeviz program.prof\n",
    "```\n",
    "\n",
    "It will open a new tab in your browser with a visualization of you profile"
   ]
  },
  {
   "cell_type": "markdown",
   "metadata": {},
   "source": [
    "# Using directly snakeviz magic"
   ]
  },
  {
   "cell_type": "code",
   "execution_count": 2,
   "metadata": {
    "ExecuteTime": {
     "end_time": "2019-11-08T14:20:41.581039Z",
     "start_time": "2019-11-08T14:20:41.576056Z"
    }
   },
   "outputs": [],
   "source": [
    "%load_ext snakeviz"
   ]
  },
  {
   "cell_type": "markdown",
   "metadata": {},
   "source": [
    "Then you can use the %%snakeviz magic command, %snakeviz is enable too for single line profile"
   ]
  },
  {
   "cell_type": "code",
   "execution_count": 25,
   "metadata": {
    "ExecuteTime": {
     "end_time": "2019-11-08T14:37:29.211984Z",
     "start_time": "2019-11-08T14:37:21.908849Z"
    }
   },
   "outputs": [
    {
     "name": "stdout",
     "output_type": "stream",
     "text": [
      "sleep for 2 seconds\n",
      "sleep for 2 seconds\n",
      " \n",
      "*** Profile stats marshalled to file '/tmp/tmpa_6g9ufi'. \n",
      "Embedding SnakeViz in this document...\n"
     ]
    },
    {
     "data": {
      "text/html": [
       "\n",
       "<iframe id='snakeviz-488ec766-0235-11ea-a7df-18a99bfe785b' frameborder=0 seamless width='100%' height='1000'></iframe>\n",
       "<script>document.getElementById(\"snakeviz-488ec766-0235-11ea-a7df-18a99bfe785b\").setAttribute(\"src\", \"http://\" + document.location.hostname + \":8081/snakeviz/%2Ftmp%2Ftmpa_6g9ufi\")</script>\n"
      ],
      "text/plain": [
       "<IPython.core.display.HTML object>"
      ]
     },
     "metadata": {},
     "output_type": "display_data"
    }
   ],
   "source": [
    "%%snakeviz\n",
    "import time\n",
    "if __name__ == \"__main__\":\n",
    "    for i in range(1000):\n",
    "        if i % 500 == 0:\n",
    "            print(\"sleep for 2 seconds\")\n",
    "            time.sleep(2)\n",
    "            "
   ]
  }
 ],
 "metadata": {
  "kernelspec": {
   "display_name": "Python 3",
   "language": "python",
   "name": "python3"
  },
  "language_info": {
   "codemirror_mode": {
    "name": "ipython",
    "version": 3
   },
   "file_extension": ".py",
   "mimetype": "text/x-python",
   "name": "python",
   "nbconvert_exporter": "python",
   "pygments_lexer": "ipython3",
   "version": "3.7.4"
  },
  "toc": {
   "base_numbering": 1,
   "nav_menu": {},
   "number_sections": true,
   "sideBar": true,
   "skip_h1_title": false,
   "title_cell": "Table of Contents",
   "title_sidebar": "Contents",
   "toc_cell": false,
   "toc_position": {},
   "toc_section_display": true,
   "toc_window_display": false
  }
 },
 "nbformat": 4,
 "nbformat_minor": 2
}
